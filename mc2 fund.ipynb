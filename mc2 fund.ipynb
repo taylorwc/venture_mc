{
 "cells": [
  {
   "cell_type": "code",
   "execution_count": 79,
   "metadata": {},
   "outputs": [],
   "source": [
    "import numpy as np\n",
    "import plotly.plotly as py\n",
    "import plotly.graph_objs as go"
   ]
  },
  {
   "cell_type": "code",
   "execution_count": 81,
   "metadata": {},
   "outputs": [],
   "source": [
    "# Create some arrays of possible distributionsm \n",
    "# in the form of ([[multiples], [associated probabilities])\n",
    "levine1 = np.array([[0,2,4,7.5,10], [0.5,0.23,0.11,0.08,0.08]])\n",
    "levine2 = np.array([[0,2,4,7.5,10], [0.56,0.24,0.07,0.06,0.07]])\n",
    "correlation = np.array([[0,3,7.5,15,35,50], [0.648,0.253,0.059,0.025,0.011,0.004]])\n",
    "mcclure = np.array([[0,0.5,3,15,50], [0.5,0.25,0.18,0.05,0.02]])\n",
    "\n",
    "# function to add a cumulative distribution key\n",
    "def cumulator(dist):\n",
    "    holder = 0\n",
    "    cumulative = []\n",
    "    for i in dist[1]:\n",
    "        holder += i\n",
    "        cumulative.append(holder)\n",
    "    dist = np.insert(dist,2,cumulative, axis=0)\n",
    "    return dist\n",
    "\n",
    "levine1 = cumulator(levine1)\n",
    "levine2 = cumulator(levine2)\n",
    "correlation = cumulator(correlation)\n",
    "mcclure = cumulator(mcclure)"
   ]
  },
  {
   "cell_type": "code",
   "execution_count": 82,
   "metadata": {},
   "outputs": [],
   "source": [
    "# function to run a simulated portfolio\n",
    "def run_portfolio(dist, iterations, number_of_investments):\n",
    "    total_outcome = []\n",
    "    \n",
    "    # function takes the dist and an array of rand numbers to match to multiple\n",
    "    def multiple_selector(dist, outcome):\n",
    "        fund_proceeds = []\n",
    "        for x in outcome:\n",
    "            for i in range(0, len(dist[0])):\n",
    "                if x <= dist[2][i]:\n",
    "                    fund_proceeds.append(dist[0][i])\n",
    "                    break\n",
    "                else:\n",
    "                    continue\n",
    "        return fund_proceeds\n",
    "    \n",
    "    # iterate through the number of portfolios and append to an average gross multiple for each\n",
    "    for _ in range(0, iterations):    \n",
    "        rands = np.random.rand(number_of_investments, 1)\n",
    "        fund_proceeds = multiple_selector(dist, rands)\n",
    "        average = sum(fund_proceeds)/len(fund_proceeds)\n",
    "        total_outcome.append(average)\n",
    "        \n",
    "    return total_outcome"
   ]
  },
  {
   "cell_type": "code",
   "execution_count": 87,
   "metadata": {},
   "outputs": [],
   "source": [
    "# run various simulations accross the assumptions\n",
    "levine1_concentrated = run_portfolio(levine1, 10000, 20)\n",
    "levine1_spread = run_portfolio(levine1, 10000, 50)\n",
    "levine2_concentrated = run_portfolio(levine2, 10000, 20)\n",
    "levine2_spread = run_portfolio(levine2, 10000, 50)\n",
    "correlation_concentrated = run_portfolio(correlation, 10000, 20)\n",
    "correlation_spread = run_portfolio(correlation, 10000, 50)\n",
    "mcclure_concentrated = run_portfolio(mcclure, 10000, 20)\n",
    "mcclure_spread = run_portfolio(mcclure, 10000, 50)"
   ]
  },
  {
   "cell_type": "code",
   "execution_count": 89,
   "metadata": {},
   "outputs": [
    {
     "name": "stderr",
     "output_type": "stream",
     "text": [
      "/Users/taylorclauson/anaconda3/lib/python3.6/site-packages/IPython/core/display.py:689: UserWarning:\n",
      "\n",
      "Consider using IPython.display.IFrame instead\n",
      "\n"
     ]
    },
    {
     "data": {
      "text/html": [
       "<iframe id=\"igraph\" scrolling=\"no\" style=\"border:none;\" seamless=\"seamless\" src=\"https://plot.ly/~taylorwc/7.embed\" height=\"525px\" width=\"100%\"></iframe>"
      ],
      "text/plain": [
       "<plotly.tools.PlotlyDisplay object>"
      ]
     },
     "execution_count": 89,
     "metadata": {},
     "output_type": "execute_result"
    }
   ],
   "source": [
    "# chart the concentrated portfolios with 20 investments\n",
    "trace1 = go.Histogram(x=mcclure_concentrated, opacity=0.75, name='Mcclure - 20')\n",
    "trace2 = go.Histogram(x=levine1_concentrated, opacity=0.75, name='Levine1 - 20')\n",
    "trace3 = go.Histogram(x=correlation_concentrated, opacity=0.75, name='Correlation - 20')\n",
    "trace4 = go.Histogram(x=levine2_concentrated, opacity=0.75, name='Levine2 - 20')\n",
    "\n",
    "data = [trace1, trace2, trace3, trace4]\n",
    "layout = go.Layout(barmode='overlay')\n",
    "fig = go.Figure(data=data, layout=layout)\n",
    "py.iplot(fig, filename='concentrated')"
   ]
  },
  {
   "cell_type": "code",
   "execution_count": 90,
   "metadata": {},
   "outputs": [
    {
     "data": {
      "text/html": [
       "<iframe id=\"igraph\" scrolling=\"no\" style=\"border:none;\" seamless=\"seamless\" src=\"https://plot.ly/~taylorwc/9.embed\" height=\"525px\" width=\"100%\"></iframe>"
      ],
      "text/plain": [
       "<plotly.tools.PlotlyDisplay object>"
      ]
     },
     "execution_count": 90,
     "metadata": {},
     "output_type": "execute_result"
    }
   ],
   "source": [
    "# chart the portfolios with 50 investments\n",
    "trace5 = go.Histogram(x=mcclure_spread, opacity=0.75, name='Mcclure - 50')\n",
    "trace6 = go.Histogram(x=levine1_spread, opacity=0.75, name='Levine1 - 50')\n",
    "trace7 = go.Histogram(x=correlation_spread, opacity=0.75, name='Correlation - 50')\n",
    "trace8 = go.Histogram(x=levine2_spread, opacity=0.75, name='Levine2 - 50')\n",
    "\n",
    "data = [trace5, trace6, trace7, trace8]\n",
    "layout = go.Layout(barmode='overlay')\n",
    "fig = go.Figure(data=data, layout=layout)\n",
    "py.iplot(fig, filename='spread')"
   ]
  },
  {
   "cell_type": "code",
   "execution_count": null,
   "metadata": {},
   "outputs": [],
   "source": []
  }
 ],
 "metadata": {
  "kernelspec": {
   "display_name": "Python 3",
   "language": "python",
   "name": "python3"
  },
  "language_info": {
   "codemirror_mode": {
    "name": "ipython",
    "version": 3
   },
   "file_extension": ".py",
   "mimetype": "text/x-python",
   "name": "python",
   "nbconvert_exporter": "python",
   "pygments_lexer": "ipython3",
   "version": "3.6.5"
  }
 },
 "nbformat": 4,
 "nbformat_minor": 2
}
