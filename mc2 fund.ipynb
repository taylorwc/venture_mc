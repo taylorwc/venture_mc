{
 "cells": [
  {
   "cell_type": "code",
   "execution_count": 1,
   "metadata": {},
   "outputs": [],
   "source": [
    "import numpy as np\n",
    "import pandas as pd\n",
    "import plotly.plotly as py\n",
    "import plotly.graph_objs as go"
   ]
  },
  {
   "cell_type": "code",
   "execution_count": 2,
   "metadata": {},
   "outputs": [],
   "source": [
    "# Create some arrays of possible distributionsm \n",
    "# in the form of ([[multiples], [associated probabilities])\n",
    "levine1 = np.array([[0,2,4,7.5,10], [0.5,0.23,0.11,0.08,0.08]])\n",
    "levine2 = np.array([[0,2,4,7.5,10], [0.56,0.24,0.07,0.06,0.07]])\n",
    "correlation = np.array([[0,3,7.5,15,35,50], [0.648,0.253,0.059,0.025,0.011,0.004]])\n",
    "mcclure = np.array([[0,0.5,3,15,50], [0.5,0.25,0.18,0.05,0.02]])\n",
    "wilson = np.array([[0,1,3,10], [0.4,0.3,0.2,0.1]])\n",
    "dummy = np.array([[0,5,10,20], [0.7,0.1,0.1,0.1]])\n",
    "\n",
    "# function to add a cumulative distribution key\n",
    "def cumulator(dist):\n",
    "    holder = 0\n",
    "    cumulative = []\n",
    "    for i in dist[1]:\n",
    "        holder += i\n",
    "        cumulative.append(holder)\n",
    "    dist = np.insert(dist,2,cumulative, axis=0)\n",
    "    return dist\n",
    "\n",
    "levine1 = cumulator(levine1)\n",
    "levine2 = cumulator(levine2)\n",
    "correlation = cumulator(correlation)\n",
    "mcclure = cumulator(mcclure)\n",
    "wilson = cumulator(wilson)\n",
    "dummy = cumulator(dummy)"
   ]
  },
  {
   "cell_type": "code",
   "execution_count": 3,
   "metadata": {},
   "outputs": [
    {
     "data": {
      "text/plain": [
       "array([[0.0e+00, 5.0e-01, 3.0e+00, 1.5e+01, 5.0e+01],\n",
       "       [5.0e-01, 2.5e-01, 1.8e-01, 5.0e-02, 2.0e-02],\n",
       "       [5.0e-01, 7.5e-01, 9.3e-01, 9.8e-01, 1.0e+00]])"
      ]
     },
     "execution_count": 3,
     "metadata": {},
     "output_type": "execute_result"
    }
   ],
   "source": [
    "mcclure"
   ]
  },
  {
   "cell_type": "code",
   "execution_count": 4,
   "metadata": {},
   "outputs": [],
   "source": [
    "# function to run a simulated portfolio\n",
    "def run_portfolio(dist, iterations, number_of_investments):\n",
    "    total_outcome = []\n",
    "    # function takes the dist and an array of rand numbers to match to multiple\n",
    "    def multiple_selector(dist, outcome):\n",
    "        fund_proceeds = []\n",
    "        for x in outcome:\n",
    "            for i in range(0, len(dist[0])):\n",
    "                if x <= dist[2][i]:\n",
    "                    fund_proceeds.append(dist[0][i])\n",
    "                    break\n",
    "                else:\n",
    "                    continue\n",
    "        return fund_proceeds\n",
    "    \n",
    "    # iterate through the number of portfolios and append to an average gross multiple for each\n",
    "    for _ in range(0, iterations):\n",
    "        rands = np.random.rand(number_of_investments)\n",
    "        fund_proceeds = multiple_selector(dist, rands)\n",
    "#         average = sum(fund_proceeds)/len(fund_proceeds)\n",
    "        total_outcome.append(fund_proceeds)\n",
    "\n",
    "        \n",
    "    return total_outcome"
   ]
  },
  {
   "cell_type": "code",
   "execution_count": 5,
   "metadata": {},
   "outputs": [
    {
     "data": {
      "text/plain": [
       "[[0.0,\n",
       "  0.0,\n",
       "  0.0,\n",
       "  0.0,\n",
       "  3.0,\n",
       "  0.5,\n",
       "  0.5,\n",
       "  0.0,\n",
       "  0.5,\n",
       "  0.0,\n",
       "  0.5,\n",
       "  0.0,\n",
       "  0.5,\n",
       "  0.0,\n",
       "  0.0,\n",
       "  0.0,\n",
       "  0.0,\n",
       "  0.5,\n",
       "  0.5,\n",
       "  0.0,\n",
       "  50.0,\n",
       "  0.0,\n",
       "  0.0,\n",
       "  0.0,\n",
       "  0.0,\n",
       "  0.0,\n",
       "  0.5,\n",
       "  0.5,\n",
       "  0.0,\n",
       "  0.0,\n",
       "  3.0,\n",
       "  0.0,\n",
       "  0.0,\n",
       "  0.0,\n",
       "  0.0,\n",
       "  0.0,\n",
       "  0.5,\n",
       "  0.5,\n",
       "  0.5,\n",
       "  0.5,\n",
       "  3.0,\n",
       "  3.0,\n",
       "  0.0,\n",
       "  0.0,\n",
       "  0.0,\n",
       "  0.0,\n",
       "  0.0,\n",
       "  0.0,\n",
       "  0.0,\n",
       "  0.5]]"
      ]
     },
     "execution_count": 5,
     "metadata": {},
     "output_type": "execute_result"
    }
   ],
   "source": [
    "test = run_portfolio(mcclure, 1, 50)\n",
    "test\n"
   ]
  },
  {
   "cell_type": "code",
   "execution_count": 6,
   "metadata": {},
   "outputs": [],
   "source": [
    "# run various simulations accross the assumptions\n",
    "levine1_concentrated = run_portfolio(levine1, 10000, 20)\n",
    "levine1_spread = run_portfolio(levine1, 10000, 200)\n",
    "levine2_concentrated = run_portfolio(levine2, 10000, 20)\n",
    "levine2_spread = run_portfolio(levine2, 10000, 200)\n",
    "correlation_concentrated = run_portfolio(correlation, 10000, 20)\n",
    "correlation_spread = run_portfolio(correlation, 10000, 200)\n",
    "mcclure_concentrated = run_portfolio(mcclure, 10000, 20)\n",
    "mcclure_spread = run_portfolio(mcclure, 10000, 200)\n",
    "wilson_concentrated = run_portfolio(wilson, 10000, 20)\n",
    "wilson_spread = run_portfolio(wilson, 10000, 200)\n",
    "\n",
    "concentrated_ports = [levine1_concentrated, levine2_concentrated, correlation_concentrated, mcclure_concentrated, wilson_concentrated]\n",
    "spread_ports = [levine1_spread, levine2_spread, correlation_spread, mcclure_spread, wilson_spread]"
   ]
  },
  {
   "cell_type": "code",
   "execution_count": 7,
   "metadata": {},
   "outputs": [
    {
     "name": "stderr",
     "output_type": "stream",
     "text": [
      "/Users/taylorclauson/anaconda3/lib/python3.6/site-packages/IPython/core/display.py:689: UserWarning:\n",
      "\n",
      "Consider using IPython.display.IFrame instead\n",
      "\n"
     ]
    },
    {
     "data": {
      "text/html": [
       "<iframe id=\"igraph\" scrolling=\"no\" style=\"border:none;\" seamless=\"seamless\" src=\"https://plot.ly/~taylorwc/7.embed\" height=\"525px\" width=\"100%\"></iframe>"
      ],
      "text/plain": [
       "<plotly.tools.PlotlyDisplay object>"
      ]
     },
     "execution_count": 7,
     "metadata": {},
     "output_type": "execute_result"
    }
   ],
   "source": [
    "# chart the concentrated portfolios with 20 investments\n",
    "trace1 = go.Histogram(x=mcclure_concentrated, opacity=0.75, name='Mcclure - 20')\n",
    "trace2 = go.Histogram(x=levine1_concentrated, opacity=0.75, name='Levine1 - 20')\n",
    "trace3 = go.Histogram(x=correlation_concentrated, opacity=0.75, name='Correlation - 20')\n",
    "trace4 = go.Histogram(x=levine2_concentrated, opacity=0.75, name='Levine2 - 20',)\n",
    "trace5 = go.Histogram(x=wilson_concentrated, opacity=0.75, name='Wilson - 20')\n",
    "\n",
    "data = [trace1, trace2, trace3, trace4, trace5]\n",
    "layout = go.Layout(barmode='overlay')\n",
    "fig = go.Figure(data=data, layout=layout)\n",
    "py.iplot(fig, filename='concentrated')"
   ]
  },
  {
   "cell_type": "code",
   "execution_count": 8,
   "metadata": {},
   "outputs": [
    {
     "data": {
      "text/html": [
       "<iframe id=\"igraph\" scrolling=\"no\" style=\"border:none;\" seamless=\"seamless\" src=\"https://plot.ly/~taylorwc/9.embed\" height=\"525px\" width=\"100%\"></iframe>"
      ],
      "text/plain": [
       "<plotly.tools.PlotlyDisplay object>"
      ]
     },
     "execution_count": 8,
     "metadata": {},
     "output_type": "execute_result"
    }
   ],
   "source": [
    "# chart the portfolios with 200 investments\n",
    "trace5 = go.Histogram(x=mcclure_spread, opacity=0.75, name='Mcclure - 200')\n",
    "trace6 = go.Histogram(x=levine1_spread, opacity=0.75, name='Levine1 - 200')\n",
    "trace7 = go.Histogram(x=correlation_spread, opacity=0.75, name='Correlation - 200')\n",
    "trace8 = go.Histogram(x=levine2_spread, opacity=0.75, name='Levine2 - 200')\n",
    "trace9 = go.Histogram(x=wilson_spread, opacity=0.75, name='Wilson - 200')\n",
    "\n",
    "data = [trace5, trace6, trace7, trace8, trace9]\n",
    "layout = go.Layout(barmode='overlay')\n",
    "fig = go.Figure(data=data, layout=layout)\n",
    "py.iplot(fig, filename='spread')"
   ]
  },
  {
   "cell_type": "code",
   "execution_count": 24,
   "metadata": {},
   "outputs": [],
   "source": [
    "# function to turn the results into a df\n",
    "def organize(portfolios):\n",
    "    df = pd.DataFrame(columns=['% above 1.0', '% above 2.0', '% above 3.0'])\n",
    "    for portfolio in portfolios:\n",
    "        above1 = len([1 for i in portfolio if i > 1.0])\n",
    "        percentage1 = above1/len(portfolio)\n",
    "        above2 = len([1 for i in portfolio if i > 2.0])\n",
    "        percentage2 = above2/len(portfolio)\n",
    "        above3 = len([1 for i in portfolio if i > 3.0])\n",
    "        percentage3 = above3/len(portfolio)\n",
    "        stats = pd.Series([percentage1, percentage2, percentage3], index=['% above 1.0', '% above 2.0', '% above 3.0'])\n",
    "        df = df.append(stats, ignore_index=True)\n",
    "    return df"
   ]
  },
  {
   "cell_type": "code",
   "execution_count": 25,
   "metadata": {},
   "outputs": [
    {
     "data": {
      "text/html": [
       "<div>\n",
       "<style scoped>\n",
       "    .dataframe tbody tr th:only-of-type {\n",
       "        vertical-align: middle;\n",
       "    }\n",
       "\n",
       "    .dataframe tbody tr th {\n",
       "        vertical-align: top;\n",
       "    }\n",
       "\n",
       "    .dataframe thead th {\n",
       "        text-align: right;\n",
       "    }\n",
       "</style>\n",
       "<table border=\"1\" class=\"dataframe\">\n",
       "  <thead>\n",
       "    <tr style=\"text-align: right;\">\n",
       "      <th></th>\n",
       "      <th>0</th>\n",
       "      <th>1</th>\n",
       "      <th>2</th>\n",
       "      <th>3</th>\n",
       "      <th>4</th>\n",
       "    </tr>\n",
       "  </thead>\n",
       "  <tbody>\n",
       "    <tr>\n",
       "      <th>% above 1.0</th>\n",
       "      <td>1.0000</td>\n",
       "      <td>1.0000</td>\n",
       "      <td>0.9999</td>\n",
       "      <td>0.9994</td>\n",
       "      <td>1.0000</td>\n",
       "    </tr>\n",
       "    <tr>\n",
       "      <th>% above 2.0</th>\n",
       "      <td>0.9080</td>\n",
       "      <td>0.3243</td>\n",
       "      <td>0.6442</td>\n",
       "      <td>0.7753</td>\n",
       "      <td>0.3028</td>\n",
       "    </tr>\n",
       "    <tr>\n",
       "      <th>% above 3.0</th>\n",
       "      <td>0.0012</td>\n",
       "      <td>0.0000</td>\n",
       "      <td>0.0257</td>\n",
       "      <td>0.1392</td>\n",
       "      <td>0.0000</td>\n",
       "    </tr>\n",
       "  </tbody>\n",
       "</table>\n",
       "</div>"
      ],
      "text/plain": [
       "                  0       1       2       3       4\n",
       "% above 1.0  1.0000  1.0000  0.9999  0.9994  1.0000\n",
       "% above 2.0  0.9080  0.3243  0.6442  0.7753  0.3028\n",
       "% above 3.0  0.0012  0.0000  0.0257  0.1392  0.0000"
      ]
     },
     "execution_count": 25,
     "metadata": {},
     "output_type": "execute_result"
    }
   ],
   "source": [
    "test = organize(spread_ports)\n",
    "test.T"
   ]
  },
  {
   "cell_type": "code",
   "execution_count": 26,
   "metadata": {},
   "outputs": [
    {
     "data": {
      "text/html": [
       "<div>\n",
       "<style scoped>\n",
       "    .dataframe tbody tr th:only-of-type {\n",
       "        vertical-align: middle;\n",
       "    }\n",
       "\n",
       "    .dataframe tbody tr th {\n",
       "        vertical-align: top;\n",
       "    }\n",
       "\n",
       "    .dataframe thead th {\n",
       "        text-align: right;\n",
       "    }\n",
       "</style>\n",
       "<table border=\"1\" class=\"dataframe\">\n",
       "  <thead>\n",
       "    <tr style=\"text-align: right;\">\n",
       "      <th></th>\n",
       "      <th>0</th>\n",
       "      <th>1</th>\n",
       "      <th>2</th>\n",
       "      <th>3</th>\n",
       "      <th>4</th>\n",
       "    </tr>\n",
       "  </thead>\n",
       "  <tbody>\n",
       "    <tr>\n",
       "      <th>% above 1.0</th>\n",
       "      <td>0.9736</td>\n",
       "      <td>0.9142</td>\n",
       "      <td>0.8476</td>\n",
       "      <td>0.7949</td>\n",
       "      <td>0.9277</td>\n",
       "    </tr>\n",
       "    <tr>\n",
       "      <th>% above 2.0</th>\n",
       "      <td>0.6419</td>\n",
       "      <td>0.4198</td>\n",
       "      <td>0.4491</td>\n",
       "      <td>0.4805</td>\n",
       "      <td>0.4071</td>\n",
       "    </tr>\n",
       "    <tr>\n",
       "      <th>% above 3.0</th>\n",
       "      <td>0.1587</td>\n",
       "      <td>0.0601</td>\n",
       "      <td>0.2176</td>\n",
       "      <td>0.3268</td>\n",
       "      <td>0.0549</td>\n",
       "    </tr>\n",
       "  </tbody>\n",
       "</table>\n",
       "</div>"
      ],
      "text/plain": [
       "                  0       1       2       3       4\n",
       "% above 1.0  0.9736  0.9142  0.8476  0.7949  0.9277\n",
       "% above 2.0  0.6419  0.4198  0.4491  0.4805  0.4071\n",
       "% above 3.0  0.1587  0.0601  0.2176  0.3268  0.0549"
      ]
     },
     "execution_count": 26,
     "metadata": {},
     "output_type": "execute_result"
    }
   ],
   "source": [
    "test1 = organize(concentrated_ports)\n",
    "test1.T"
   ]
  },
  {
   "cell_type": "code",
   "execution_count": 36,
   "metadata": {},
   "outputs": [],
   "source": [
    "wilson1 = run_portfolio(correlation, 10000, 1)\n",
    "wilson5 = run_portfolio(correlation, 10000, 20)\n",
    "wilson10 = run_portfolio(correlation, 10000, 40)\n",
    "wilson20 = run_portfolio(correlation,10000,60)\n",
    "wilson50 = run_portfolio(correlation,10000,80)\n",
    "wilson100 = run_portfolio(correlation, 10000, 100)\n"
   ]
  },
  {
   "cell_type": "code",
   "execution_count": 37,
   "metadata": {},
   "outputs": [
    {
     "data": {
      "text/html": [
       "<div>\n",
       "<style scoped>\n",
       "    .dataframe tbody tr th:only-of-type {\n",
       "        vertical-align: middle;\n",
       "    }\n",
       "\n",
       "    .dataframe tbody tr th {\n",
       "        vertical-align: top;\n",
       "    }\n",
       "\n",
       "    .dataframe thead th {\n",
       "        text-align: right;\n",
       "    }\n",
       "</style>\n",
       "<table border=\"1\" class=\"dataframe\">\n",
       "  <thead>\n",
       "    <tr style=\"text-align: right;\">\n",
       "      <th></th>\n",
       "      <th>0</th>\n",
       "      <th>1</th>\n",
       "      <th>2</th>\n",
       "      <th>3</th>\n",
       "      <th>4</th>\n",
       "      <th>5</th>\n",
       "    </tr>\n",
       "  </thead>\n",
       "  <tbody>\n",
       "    <tr>\n",
       "      <th>% above 1.0</th>\n",
       "      <td>0.3503</td>\n",
       "      <td>0.8589</td>\n",
       "      <td>0.9537</td>\n",
       "      <td>0.9831</td>\n",
       "      <td>0.9921</td>\n",
       "      <td>0.9962</td>\n",
       "    </tr>\n",
       "    <tr>\n",
       "      <th>% above 2.0</th>\n",
       "      <td>0.3503</td>\n",
       "      <td>0.4570</td>\n",
       "      <td>0.5156</td>\n",
       "      <td>0.5405</td>\n",
       "      <td>0.5584</td>\n",
       "      <td>0.5806</td>\n",
       "    </tr>\n",
       "    <tr>\n",
       "      <th>% above 3.0</th>\n",
       "      <td>0.1029</td>\n",
       "      <td>0.2219</td>\n",
       "      <td>0.1610</td>\n",
       "      <td>0.1226</td>\n",
       "      <td>0.0938</td>\n",
       "      <td>0.0720</td>\n",
       "    </tr>\n",
       "  </tbody>\n",
       "</table>\n",
       "</div>"
      ],
      "text/plain": [
       "                  0       1       2       3       4       5\n",
       "% above 1.0  0.3503  0.8589  0.9537  0.9831  0.9921  0.9962\n",
       "% above 2.0  0.3503  0.4570  0.5156  0.5405  0.5584  0.5806\n",
       "% above 3.0  0.1029  0.2219  0.1610  0.1226  0.0938  0.0720"
      ]
     },
     "execution_count": 37,
     "metadata": {},
     "output_type": "execute_result"
    }
   ],
   "source": [
    "wilsons = [wilson1, wilson5, wilson10, wilson20, wilson50, wilson100]\n",
    "summary = organize(wilsons)\n",
    "summary.T"
   ]
  },
  {
   "cell_type": "code",
   "execution_count": 38,
   "metadata": {},
   "outputs": [
    {
     "name": "stdout",
     "output_type": "stream",
     "text": [
      "0.1029\n",
      "0.2219\n",
      "0.161\n",
      "0.1226\n",
      "0.0938\n",
      "0.072\n"
     ]
    }
   ],
   "source": [
    "for size in wilsons:\n",
    "    above1 = len([1 for i in size if i > 3.0])\n",
    "    percentage = above1/len(size)\n",
    "    print(percentage)"
   ]
  },
  {
   "cell_type": "code",
   "execution_count": 34,
   "metadata": {},
   "outputs": [],
   "source": []
  },
  {
   "cell_type": "code",
   "execution_count": null,
   "metadata": {},
   "outputs": [],
   "source": []
  },
  {
   "cell_type": "code",
   "execution_count": null,
   "metadata": {},
   "outputs": [],
   "source": []
  }
 ],
 "metadata": {
  "kernelspec": {
   "display_name": "Python 3",
   "language": "python",
   "name": "python3"
  },
  "language_info": {
   "codemirror_mode": {
    "name": "ipython",
    "version": 3
   },
   "file_extension": ".py",
   "mimetype": "text/x-python",
   "name": "python",
   "nbconvert_exporter": "python",
   "pygments_lexer": "ipython3",
   "version": "3.6.5"
  }
 },
 "nbformat": 4,
 "nbformat_minor": 2
}
