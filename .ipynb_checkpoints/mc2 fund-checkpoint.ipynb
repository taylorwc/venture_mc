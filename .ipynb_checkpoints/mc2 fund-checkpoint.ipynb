{
 "cells": [
  {
   "cell_type": "code",
   "execution_count": 1,
   "metadata": {},
   "outputs": [],
   "source": [
    "import numpy as np\n",
    "import pandas as pd\n",
    "import plotly.plotly as py\n",
    "import plotly.graph_objs as go"
   ]
  },
  {
   "cell_type": "code",
   "execution_count": 2,
   "metadata": {},
   "outputs": [],
   "source": [
    "# Create some arrays of possible distributionsm \n",
    "# in the form of ([[multiples], [associated probabilities])\n",
    "levine1 = np.array([[0,2,4,7.5,10], [0.5,0.23,0.11,0.08,0.08]])\n",
    "levine2 = np.array([[0,2,4,7.5,10], [0.56,0.24,0.07,0.06,0.07]])\n",
    "correlation = np.array([[0,3,7.5,15,35,50], [0.648,0.253,0.059,0.025,0.011,0.004]])\n",
    "mcclure = np.array([[0,0.5,3,15,50], [0.5,0.25,0.18,0.05,0.02]])\n",
    "\n",
    "# function to add a cumulative distribution key\n",
    "def cumulator(dist):\n",
    "    holder = 0\n",
    "    cumulative = []\n",
    "    for i in dist[1]:\n",
    "        holder += i\n",
    "        cumulative.append(holder)\n",
    "    dist = np.insert(dist,2,cumulative, axis=0)\n",
    "    return dist\n",
    "\n",
    "levine1 = cumulator(levine1)\n",
    "levine2 = cumulator(levine2)\n",
    "correlation = cumulator(correlation)\n",
    "mcclure = cumulator(mcclure)"
   ]
  },
  {
   "cell_type": "code",
   "execution_count": 3,
   "metadata": {},
   "outputs": [],
   "source": [
    "# function to run a simulated portfolio\n",
    "def run_portfolio(dist, iterations, number_of_investments):\n",
    "    total_outcome = []\n",
    "    \n",
    "    # function takes the dist and an array of rand numbers to match to multiple\n",
    "    def multiple_selector(dist, outcome):\n",
    "        fund_proceeds = []\n",
    "        for x in outcome:\n",
    "            for i in range(0, len(dist[0])):\n",
    "                if x <= dist[2][i]:\n",
    "                    fund_proceeds.append(dist[0][i])\n",
    "                    break\n",
    "                else:\n",
    "                    continue\n",
    "        return fund_proceeds\n",
    "    \n",
    "    # iterate through the number of portfolios and append to an average gross multiple for each\n",
    "    for _ in range(0, iterations):    \n",
    "        rands = np.random.rand(number_of_investments, 1)\n",
    "        fund_proceeds = multiple_selector(dist, rands)\n",
    "        average = sum(fund_proceeds)/len(fund_proceeds)\n",
    "        total_outcome.append(average)\n",
    "        \n",
    "    return total_outcome"
   ]
  },
  {
   "cell_type": "code",
   "execution_count": 4,
   "metadata": {},
   "outputs": [],
   "source": [
    "# run various simulations accross the assumptions\n",
    "levine1_concentrated = run_portfolio(levine1, 10000, 20)\n",
    "levine1_spread = run_portfolio(levine1, 10000, 200)\n",
    "levine2_concentrated = run_portfolio(levine2, 10000, 20)\n",
    "levine2_spread = run_portfolio(levine2, 10000, 200)\n",
    "correlation_concentrated = run_portfolio(correlation, 10000, 20)\n",
    "correlation_spread = run_portfolio(correlation, 10000, 200)\n",
    "mcclure_concentrated = run_portfolio(mcclure, 10000, 20)\n",
    "mcclure_spread = run_portfolio(mcclure, 10000, 200)\n",
    "\n",
    "concentrated_ports = [levine1_concentrated, levine2_concentrated, correlation_concentrated, mcclure_concentrated]\n",
    "spread_ports = [levine1_spread, levine2_spread, correlation_spread, mcclure_spread]"
   ]
  },
  {
   "cell_type": "code",
   "execution_count": 5,
   "metadata": {},
   "outputs": [
    {
     "name": "stderr",
     "output_type": "stream",
     "text": [
      "/Users/taylorclauson/anaconda3/lib/python3.6/site-packages/IPython/core/display.py:689: UserWarning:\n",
      "\n",
      "Consider using IPython.display.IFrame instead\n",
      "\n"
     ]
    },
    {
     "data": {
      "text/html": [
       "<iframe id=\"igraph\" scrolling=\"no\" style=\"border:none;\" seamless=\"seamless\" src=\"https://plot.ly/~taylorwc/7.embed\" height=\"525px\" width=\"100%\"></iframe>"
      ],
      "text/plain": [
       "<plotly.tools.PlotlyDisplay object>"
      ]
     },
     "execution_count": 5,
     "metadata": {},
     "output_type": "execute_result"
    }
   ],
   "source": [
    "# chart the concentrated portfolios with 20 investments\n",
    "trace1 = go.Histogram(x=mcclure_concentrated, opacity=0.75, name='Mcclure - 20')\n",
    "trace2 = go.Histogram(x=levine1_concentrated, opacity=0.75, name='Levine1 - 20')\n",
    "trace3 = go.Histogram(x=correlation_concentrated, opacity=0.75, name='Correlation - 20')\n",
    "trace4 = go.Histogram(x=levine2_concentrated, opacity=0.75, name='Levine2 - 20',)\n",
    "\n",
    "data = [trace1, trace2, trace3, trace4]\n",
    "layout = go.Layout(barmode='overlay')\n",
    "fig = go.Figure(data=data, layout=layout)\n",
    "py.iplot(fig, filename='concentrated')"
   ]
  },
  {
   "cell_type": "code",
   "execution_count": 6,
   "metadata": {},
   "outputs": [
    {
     "data": {
      "text/html": [
       "<iframe id=\"igraph\" scrolling=\"no\" style=\"border:none;\" seamless=\"seamless\" src=\"https://plot.ly/~taylorwc/9.embed\" height=\"525px\" width=\"100%\"></iframe>"
      ],
      "text/plain": [
       "<plotly.tools.PlotlyDisplay object>"
      ]
     },
     "execution_count": 6,
     "metadata": {},
     "output_type": "execute_result"
    }
   ],
   "source": [
    "# chart the portfolios with 200 investments\n",
    "trace5 = go.Histogram(x=mcclure_spread, opacity=0.75, name='Mcclure - 200')\n",
    "trace6 = go.Histogram(x=levine1_spread, opacity=0.75, name='Levine1 - 200')\n",
    "trace7 = go.Histogram(x=correlation_spread, opacity=0.75, name='Correlation - 200')\n",
    "trace8 = go.Histogram(x=levine2_spread, opacity=0.75, name='Levine2 - 200')\n",
    "\n",
    "data = [trace5, trace6, trace7, trace8]\n",
    "layout = go.Layout(barmode='overlay')\n",
    "fig = go.Figure(data=data, layout=layout)\n",
    "py.iplot(fig, filename='spread')"
   ]
  },
  {
   "cell_type": "code",
   "execution_count": 52,
   "metadata": {},
   "outputs": [],
   "source": [
    "# function to turn the results into a df\n",
    "def organize(portfolios):\n",
    "    df = pd.DataFrame(columns=['Bottom Decile', 'Bottom Quartile', 'Median', 'Upper Quartile', 'Upper Decile', 'Mean', 'Std Dev'])\n",
    "    for portfolio in portfolios:\n",
    "        bottom_decile = np.percentile(portfolio, 10)\n",
    "        bottom_quartile = np.percentile(portfolio, 25)\n",
    "        median = np.percentile(portfolio, 50)\n",
    "        upper_quartile = np.percentile(portfolio, 75)\n",
    "        upper_decile = np.percentile(portfolio, 90)\n",
    "        mean = np.mean(portfolio)\n",
    "        std = np.std(portfolio)\n",
    "        stats = pd.Series([bottom_decile, bottom_quartile, median, upper_quartile, upper_decile, mean, std], index=['Bottom Decile', 'Bottom Quartile', 'Median', 'Upper Quartile', 'Upper Decile', 'Mean', 'Std Dev'])\n",
    "        df = df.append(stats, ignore_index=True)\n",
    "    return df"
   ]
  },
  {
   "cell_type": "code",
   "execution_count": 54,
   "metadata": {},
   "outputs": [
    {
     "data": {
      "text/html": [
       "<div>\n",
       "<style scoped>\n",
       "    .dataframe tbody tr th:only-of-type {\n",
       "        vertical-align: middle;\n",
       "    }\n",
       "\n",
       "    .dataframe tbody tr th {\n",
       "        vertical-align: top;\n",
       "    }\n",
       "\n",
       "    .dataframe thead th {\n",
       "        text-align: right;\n",
       "    }\n",
       "</style>\n",
       "<table border=\"1\" class=\"dataframe\">\n",
       "  <thead>\n",
       "    <tr style=\"text-align: right;\">\n",
       "      <th></th>\n",
       "      <th>Bottom Decile</th>\n",
       "      <th>Bottom Quartile</th>\n",
       "      <th>Median</th>\n",
       "      <th>Upper Quartile</th>\n",
       "      <th>Upper Decile</th>\n",
       "      <th>Mean</th>\n",
       "      <th>Std Dev</th>\n",
       "    </tr>\n",
       "  </thead>\n",
       "  <tbody>\n",
       "    <tr>\n",
       "      <th>0</th>\n",
       "      <td>2.01750</td>\n",
       "      <td>2.1475</td>\n",
       "      <td>2.2950</td>\n",
       "      <td>2.4450</td>\n",
       "      <td>2.5925</td>\n",
       "      <td>2.299864</td>\n",
       "      <td>0.223440</td>\n",
       "    </tr>\n",
       "    <tr>\n",
       "      <th>1</th>\n",
       "      <td>1.64500</td>\n",
       "      <td>1.7650</td>\n",
       "      <td>1.9050</td>\n",
       "      <td>2.0500</td>\n",
       "      <td>2.1800</td>\n",
       "      <td>1.909724</td>\n",
       "      <td>0.208746</td>\n",
       "    </tr>\n",
       "    <tr>\n",
       "      <th>2</th>\n",
       "      <td>1.68750</td>\n",
       "      <td>1.8900</td>\n",
       "      <td>2.1400</td>\n",
       "      <td>2.4075</td>\n",
       "      <td>2.6725</td>\n",
       "      <td>2.162141</td>\n",
       "      <td>0.384627</td>\n",
       "    </tr>\n",
       "    <tr>\n",
       "      <th>3</th>\n",
       "      <td>1.75475</td>\n",
       "      <td>2.0325</td>\n",
       "      <td>2.3875</td>\n",
       "      <td>2.7500</td>\n",
       "      <td>3.1175</td>\n",
       "      <td>2.411404</td>\n",
       "      <td>0.533669</td>\n",
       "    </tr>\n",
       "  </tbody>\n",
       "</table>\n",
       "</div>"
      ],
      "text/plain": [
       "   Bottom Decile  Bottom Quartile  Median  Upper Quartile  Upper Decile  \\\n",
       "0        2.01750           2.1475  2.2950          2.4450        2.5925   \n",
       "1        1.64500           1.7650  1.9050          2.0500        2.1800   \n",
       "2        1.68750           1.8900  2.1400          2.4075        2.6725   \n",
       "3        1.75475           2.0325  2.3875          2.7500        3.1175   \n",
       "\n",
       "       Mean   Std Dev  \n",
       "0  2.299864  0.223440  \n",
       "1  1.909724  0.208746  \n",
       "2  2.162141  0.384627  \n",
       "3  2.411404  0.533669  "
      ]
     },
     "execution_count": 54,
     "metadata": {},
     "output_type": "execute_result"
    }
   ],
   "source": [
    "test = organize(spread_ports)\n",
    "test"
   ]
  },
  {
   "cell_type": "code",
   "execution_count": 55,
   "metadata": {},
   "outputs": [
    {
     "data": {
      "text/html": [
       "<div>\n",
       "<style scoped>\n",
       "    .dataframe tbody tr th:only-of-type {\n",
       "        vertical-align: middle;\n",
       "    }\n",
       "\n",
       "    .dataframe tbody tr th {\n",
       "        vertical-align: top;\n",
       "    }\n",
       "\n",
       "    .dataframe thead th {\n",
       "        text-align: right;\n",
       "    }\n",
       "</style>\n",
       "<table border=\"1\" class=\"dataframe\">\n",
       "  <thead>\n",
       "    <tr style=\"text-align: right;\">\n",
       "      <th></th>\n",
       "      <th>Bottom Decile</th>\n",
       "      <th>Bottom Quartile</th>\n",
       "      <th>Median</th>\n",
       "      <th>Upper Quartile</th>\n",
       "      <th>Upper Decile</th>\n",
       "      <th>Mean</th>\n",
       "      <th>Std Dev</th>\n",
       "    </tr>\n",
       "  </thead>\n",
       "  <tbody>\n",
       "    <tr>\n",
       "      <th>0</th>\n",
       "      <td>1.400</td>\n",
       "      <td>1.800</td>\n",
       "      <td>2.250</td>\n",
       "      <td>2.775</td>\n",
       "      <td>3.25</td>\n",
       "      <td>2.302777</td>\n",
       "      <td>0.708496</td>\n",
       "    </tr>\n",
       "    <tr>\n",
       "      <th>1</th>\n",
       "      <td>1.100</td>\n",
       "      <td>1.450</td>\n",
       "      <td>1.875</td>\n",
       "      <td>2.350</td>\n",
       "      <td>2.80</td>\n",
       "      <td>1.921230</td>\n",
       "      <td>0.666575</td>\n",
       "    </tr>\n",
       "    <tr>\n",
       "      <th>2</th>\n",
       "      <td>0.900</td>\n",
       "      <td>1.275</td>\n",
       "      <td>1.875</td>\n",
       "      <td>2.850</td>\n",
       "      <td>3.85</td>\n",
       "      <td>2.171027</td>\n",
       "      <td>1.224370</td>\n",
       "    </tr>\n",
       "    <tr>\n",
       "      <th>3</th>\n",
       "      <td>0.675</td>\n",
       "      <td>1.175</td>\n",
       "      <td>1.950</td>\n",
       "      <td>3.475</td>\n",
       "      <td>4.65</td>\n",
       "      <td>2.434117</td>\n",
       "      <td>1.690534</td>\n",
       "    </tr>\n",
       "  </tbody>\n",
       "</table>\n",
       "</div>"
      ],
      "text/plain": [
       "   Bottom Decile  Bottom Quartile  Median  Upper Quartile  Upper Decile  \\\n",
       "0          1.400            1.800   2.250           2.775          3.25   \n",
       "1          1.100            1.450   1.875           2.350          2.80   \n",
       "2          0.900            1.275   1.875           2.850          3.85   \n",
       "3          0.675            1.175   1.950           3.475          4.65   \n",
       "\n",
       "       Mean   Std Dev  \n",
       "0  2.302777  0.708496  \n",
       "1  1.921230  0.666575  \n",
       "2  2.171027  1.224370  \n",
       "3  2.434117  1.690534  "
      ]
     },
     "execution_count": 55,
     "metadata": {},
     "output_type": "execute_result"
    }
   ],
   "source": [
    "test1 = organize(concentrated_ports)\n",
    "test1"
   ]
  },
  {
   "cell_type": "code",
   "execution_count": null,
   "metadata": {},
   "outputs": [],
   "source": []
  }
 ],
 "metadata": {
  "kernelspec": {
   "display_name": "Python 3",
   "language": "python",
   "name": "python3"
  },
  "language_info": {
   "codemirror_mode": {
    "name": "ipython",
    "version": 3
   },
   "file_extension": ".py",
   "mimetype": "text/x-python",
   "name": "python",
   "nbconvert_exporter": "python",
   "pygments_lexer": "ipython3",
   "version": "3.6.5"
  }
 },
 "nbformat": 4,
 "nbformat_minor": 2
}
