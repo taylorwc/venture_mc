{
 "cells": [
  {
   "cell_type": "code",
   "execution_count": 116,
   "metadata": {},
   "outputs": [],
   "source": [
    "import numpy as np\n",
    "import pandas as pd\n",
    "import plotly.plotly as py\n",
    "import plotly.graph_objs as go"
   ]
  },
  {
   "cell_type": "code",
   "execution_count": 117,
   "metadata": {},
   "outputs": [],
   "source": [
    "# Create some arrays of possible distributionsm \n",
    "# in the form of ([[multiples], [associated probabilities])\n",
    "levine1 = np.array([[0,2,4,7.5,10], [0.5,0.23,0.11,0.08,0.08]])\n",
    "levine2 = np.array([[0,2,4,7.5,10], [0.56,0.24,0.07,0.06,0.07]])\n",
    "correlation = np.array([[0,3,7.5,15,35,50], [0.648,0.253,0.059,0.025,0.011,0.004]])\n",
    "mcclure = np.array([[0,0.5,3,15,50], [0.5,0.25,0.18,0.05,0.02]])\n",
    "\n",
    "# function to add a cumulative distribution key\n",
    "def cumulator(dist):\n",
    "    holder = 0\n",
    "    cumulative = []\n",
    "    for i in dist[1]:\n",
    "        holder += i\n",
    "        cumulative.append(holder)\n",
    "    dist = np.insert(dist,2,cumulative, axis=0)\n",
    "    return dist\n",
    "\n",
    "levine1 = cumulator(levine1)\n",
    "levine2 = cumulator(levine2)\n",
    "correlation = cumulator(correlation)\n",
    "mcclure = cumulator(mcclure)"
   ]
  },
  {
   "cell_type": "code",
   "execution_count": 118,
   "metadata": {},
   "outputs": [],
   "source": [
    "# function to run a simulated portfolio\n",
    "def run_portfolio(dist, iterations, number_of_investments):\n",
    "    total_outcome = []\n",
    "    \n",
    "    # function takes the dist and an array of rand numbers to match to multiple\n",
    "    def multiple_selector(dist, outcome):\n",
    "        fund_proceeds = []\n",
    "        for x in outcome:\n",
    "            for i in range(0, len(dist[0])):\n",
    "                if x < dist[2][i]:\n",
    "                    fund_proceeds.append(dist[0][i])\n",
    "                    break\n",
    "                else:\n",
    "                    continue\n",
    "        return fund_proceeds\n",
    "    \n",
    "    # iterate through the number of portfolios and append to an average gross multiple for each\n",
    "    for _ in range(0, iterations):\n",
    "        rands = np.random.rand(number_of_investments)\n",
    "        fund_proceeds = multiple_selector(dist, rands)\n",
    "        average = sum(fund_proceeds)/len(fund_proceeds)\n",
    "        total_outcome.append(average)\n",
    "        \n",
    "    return total_outcome"
   ]
  },
  {
   "cell_type": "code",
   "execution_count": 119,
   "metadata": {},
   "outputs": [],
   "source": [
    "# run various simulations accross the assumptions\n",
    "levine1_concentrated = run_portfolio(levine1, 10000, 20)\n",
    "levine1_spread = run_portfolio(levine1, 10000, 200)\n",
    "levine2_concentrated = run_portfolio(levine2, 10000, 20)\n",
    "levine2_spread = run_portfolio(levine2, 10000, 200)\n",
    "correlation_concentrated = run_portfolio(correlation, 10000, 20)\n",
    "correlation_spread = run_portfolio(correlation, 10000, 200)\n",
    "mcclure_concentrated = run_portfolio(mcclure, 10000, 20)\n",
    "mcclure_spread = run_portfolio(mcclure, 10000, 200)\n",
    "\n",
    "concentrated_ports = [levine1_concentrated, levine2_concentrated, correlation_concentrated, mcclure_concentrated]\n",
    "spread_ports = [levine1_spread, levine2_spread, correlation_spread, mcclure_spread]"
   ]
  },
  {
   "cell_type": "code",
   "execution_count": 120,
   "metadata": {},
   "outputs": [
    {
     "name": "stderr",
     "output_type": "stream",
     "text": [
      "/Users/taylorclauson/anaconda3/lib/python3.6/site-packages/IPython/core/display.py:689: UserWarning:\n",
      "\n",
      "Consider using IPython.display.IFrame instead\n",
      "\n"
     ]
    },
    {
     "data": {
      "text/html": [
       "<iframe id=\"igraph\" scrolling=\"no\" style=\"border:none;\" seamless=\"seamless\" src=\"https://plot.ly/~taylorwc/7.embed\" height=\"525px\" width=\"100%\"></iframe>"
      ],
      "text/plain": [
       "<plotly.tools.PlotlyDisplay object>"
      ]
     },
     "execution_count": 120,
     "metadata": {},
     "output_type": "execute_result"
    }
   ],
   "source": [
    "# chart the concentrated portfolios with 20 investments\n",
    "trace1 = go.Histogram(x=mcclure_concentrated, opacity=0.75, name='Mcclure - 20')\n",
    "trace2 = go.Histogram(x=levine1_concentrated, opacity=0.75, name='Levine1 - 20')\n",
    "trace3 = go.Histogram(x=correlation_concentrated, opacity=0.75, name='Correlation - 20')\n",
    "trace4 = go.Histogram(x=levine2_concentrated, opacity=0.75, name='Levine2 - 20',)\n",
    "\n",
    "data = [trace1, trace2, trace3, trace4]\n",
    "layout = go.Layout(barmode='overlay')\n",
    "fig = go.Figure(data=data, layout=layout)\n",
    "py.iplot(fig, filename='concentrated')"
   ]
  },
  {
   "cell_type": "code",
   "execution_count": 121,
   "metadata": {},
   "outputs": [
    {
     "data": {
      "text/html": [
       "<iframe id=\"igraph\" scrolling=\"no\" style=\"border:none;\" seamless=\"seamless\" src=\"https://plot.ly/~taylorwc/9.embed\" height=\"525px\" width=\"100%\"></iframe>"
      ],
      "text/plain": [
       "<plotly.tools.PlotlyDisplay object>"
      ]
     },
     "execution_count": 121,
     "metadata": {},
     "output_type": "execute_result"
    }
   ],
   "source": [
    "# chart the portfolios with 200 investments\n",
    "trace5 = go.Histogram(x=mcclure_spread, opacity=0.75, name='Mcclure - 200')\n",
    "trace6 = go.Histogram(x=levine1_spread, opacity=0.75, name='Levine1 - 200')\n",
    "trace7 = go.Histogram(x=correlation_spread, opacity=0.75, name='Correlation - 200')\n",
    "trace8 = go.Histogram(x=levine2_spread, opacity=0.75, name='Levine2 - 200')\n",
    "\n",
    "data = [trace5, trace6, trace7, trace8]\n",
    "layout = go.Layout(barmode='overlay')\n",
    "fig = go.Figure(data=data, layout=layout)\n",
    "py.iplot(fig, filename='spread')"
   ]
  },
  {
   "cell_type": "code",
   "execution_count": 122,
   "metadata": {},
   "outputs": [],
   "source": [
    "# function to turn the results into a df\n",
    "def organize(portfolios):\n",
    "    df = pd.DataFrame(columns=['Bottom Decile', 'Bottom Quartile', 'Median', 'Upper Quartile', 'Upper Decile', 'Mean', 'Std Dev'])\n",
    "    for portfolio in portfolios:\n",
    "        bottom_decile = np.percentile(portfolio, 10)\n",
    "        bottom_quartile = np.percentile(portfolio, 25)\n",
    "        median = np.percentile(portfolio, 50)\n",
    "        upper_quartile = np.percentile(portfolio, 75)\n",
    "        upper_decile = np.percentile(portfolio, 90)\n",
    "        mean = np.mean(portfolio)\n",
    "        std = np.std(portfolio)\n",
    "        stats = pd.Series([bottom_decile, bottom_quartile, median, upper_quartile, upper_decile, mean, std], index=['Bottom Decile', 'Bottom Quartile', 'Median', 'Upper Quartile', 'Upper Decile', 'Mean', 'Std Dev'])\n",
    "        df = df.append(stats, ignore_index=True)\n",
    "    return df"
   ]
  },
  {
   "cell_type": "code",
   "execution_count": 132,
   "metadata": {},
   "outputs": [
    {
     "data": {
      "text/html": [
       "<div>\n",
       "<style scoped>\n",
       "    .dataframe tbody tr th:only-of-type {\n",
       "        vertical-align: middle;\n",
       "    }\n",
       "\n",
       "    .dataframe tbody tr th {\n",
       "        vertical-align: top;\n",
       "    }\n",
       "\n",
       "    .dataframe thead th {\n",
       "        text-align: right;\n",
       "    }\n",
       "</style>\n",
       "<table border=\"1\" class=\"dataframe\">\n",
       "  <thead>\n",
       "    <tr style=\"text-align: right;\">\n",
       "      <th></th>\n",
       "      <th>0</th>\n",
       "      <th>1</th>\n",
       "      <th>2</th>\n",
       "      <th>3</th>\n",
       "    </tr>\n",
       "  </thead>\n",
       "  <tbody>\n",
       "    <tr>\n",
       "      <th>Bottom Decile</th>\n",
       "      <td>2.012500</td>\n",
       "      <td>1.642500</td>\n",
       "      <td>1.682500</td>\n",
       "      <td>1.762500</td>\n",
       "    </tr>\n",
       "    <tr>\n",
       "      <th>Bottom Quartile</th>\n",
       "      <td>2.147500</td>\n",
       "      <td>1.765000</td>\n",
       "      <td>1.885000</td>\n",
       "      <td>2.032500</td>\n",
       "    </tr>\n",
       "    <tr>\n",
       "      <th>Median</th>\n",
       "      <td>2.295000</td>\n",
       "      <td>1.910000</td>\n",
       "      <td>2.130000</td>\n",
       "      <td>2.388750</td>\n",
       "    </tr>\n",
       "    <tr>\n",
       "      <th>Upper Quartile</th>\n",
       "      <td>2.445000</td>\n",
       "      <td>2.055000</td>\n",
       "      <td>2.405000</td>\n",
       "      <td>2.758125</td>\n",
       "    </tr>\n",
       "    <tr>\n",
       "      <th>Upper Decile</th>\n",
       "      <td>2.580000</td>\n",
       "      <td>2.185000</td>\n",
       "      <td>2.670000</td>\n",
       "      <td>3.112500</td>\n",
       "    </tr>\n",
       "    <tr>\n",
       "      <th>Mean</th>\n",
       "      <td>2.297249</td>\n",
       "      <td>1.912546</td>\n",
       "      <td>2.156342</td>\n",
       "      <td>2.416405</td>\n",
       "    </tr>\n",
       "    <tr>\n",
       "      <th>Std Dev</th>\n",
       "      <td>0.221257</td>\n",
       "      <td>0.211657</td>\n",
       "      <td>0.387640</td>\n",
       "      <td>0.531623</td>\n",
       "    </tr>\n",
       "  </tbody>\n",
       "</table>\n",
       "</div>"
      ],
      "text/plain": [
       "                        0         1         2         3\n",
       "Bottom Decile    2.012500  1.642500  1.682500  1.762500\n",
       "Bottom Quartile  2.147500  1.765000  1.885000  2.032500\n",
       "Median           2.295000  1.910000  2.130000  2.388750\n",
       "Upper Quartile   2.445000  2.055000  2.405000  2.758125\n",
       "Upper Decile     2.580000  2.185000  2.670000  3.112500\n",
       "Mean             2.297249  1.912546  2.156342  2.416405\n",
       "Std Dev          0.221257  0.211657  0.387640  0.531623"
      ]
     },
     "execution_count": 132,
     "metadata": {},
     "output_type": "execute_result"
    }
   ],
   "source": [
    "test = organize(spread_ports)\n",
    "test.T"
   ]
  },
  {
   "cell_type": "code",
   "execution_count": 133,
   "metadata": {},
   "outputs": [
    {
     "data": {
      "text/html": [
       "<div>\n",
       "<style scoped>\n",
       "    .dataframe tbody tr th:only-of-type {\n",
       "        vertical-align: middle;\n",
       "    }\n",
       "\n",
       "    .dataframe tbody tr th {\n",
       "        vertical-align: top;\n",
       "    }\n",
       "\n",
       "    .dataframe thead th {\n",
       "        text-align: right;\n",
       "    }\n",
       "</style>\n",
       "<table border=\"1\" class=\"dataframe\">\n",
       "  <thead>\n",
       "    <tr style=\"text-align: right;\">\n",
       "      <th></th>\n",
       "      <th>0</th>\n",
       "      <th>1</th>\n",
       "      <th>2</th>\n",
       "      <th>3</th>\n",
       "    </tr>\n",
       "  </thead>\n",
       "  <tbody>\n",
       "    <tr>\n",
       "      <th>Bottom Decile</th>\n",
       "      <td>1.400000</td>\n",
       "      <td>1.100000</td>\n",
       "      <td>0.900000</td>\n",
       "      <td>0.650000</td>\n",
       "    </tr>\n",
       "    <tr>\n",
       "      <th>Bottom Quartile</th>\n",
       "      <td>1.800000</td>\n",
       "      <td>1.475000</td>\n",
       "      <td>1.275000</td>\n",
       "      <td>1.150000</td>\n",
       "    </tr>\n",
       "    <tr>\n",
       "      <th>Median</th>\n",
       "      <td>2.262500</td>\n",
       "      <td>1.875000</td>\n",
       "      <td>1.875000</td>\n",
       "      <td>1.925000</td>\n",
       "    </tr>\n",
       "    <tr>\n",
       "      <th>Upper Quartile</th>\n",
       "      <td>2.750000</td>\n",
       "      <td>2.350000</td>\n",
       "      <td>2.800000</td>\n",
       "      <td>3.506250</td>\n",
       "    </tr>\n",
       "    <tr>\n",
       "      <th>Upper Decile</th>\n",
       "      <td>3.225000</td>\n",
       "      <td>2.800000</td>\n",
       "      <td>3.850000</td>\n",
       "      <td>4.675000</td>\n",
       "    </tr>\n",
       "    <tr>\n",
       "      <th>Mean</th>\n",
       "      <td>2.296170</td>\n",
       "      <td>1.923727</td>\n",
       "      <td>2.161303</td>\n",
       "      <td>2.426540</td>\n",
       "    </tr>\n",
       "    <tr>\n",
       "      <th>Std Dev</th>\n",
       "      <td>0.707691</td>\n",
       "      <td>0.657888</td>\n",
       "      <td>1.234192</td>\n",
       "      <td>1.698185</td>\n",
       "    </tr>\n",
       "  </tbody>\n",
       "</table>\n",
       "</div>"
      ],
      "text/plain": [
       "                        0         1         2         3\n",
       "Bottom Decile    1.400000  1.100000  0.900000  0.650000\n",
       "Bottom Quartile  1.800000  1.475000  1.275000  1.150000\n",
       "Median           2.262500  1.875000  1.875000  1.925000\n",
       "Upper Quartile   2.750000  2.350000  2.800000  3.506250\n",
       "Upper Decile     3.225000  2.800000  3.850000  4.675000\n",
       "Mean             2.296170  1.923727  2.161303  2.426540\n",
       "Std Dev          0.707691  0.657888  1.234192  1.698185"
      ]
     },
     "execution_count": 133,
     "metadata": {},
     "output_type": "execute_result"
    }
   ],
   "source": [
    "test1 = organize(concentrated_ports)\n",
    "test1.T"
   ]
  },
  {
   "cell_type": "code",
   "execution_count": 125,
   "metadata": {},
   "outputs": [],
   "source": [
    "mcclure20 = run_portfolio(mcclure,10000,20)\n",
    "mcclure50 = run_portfolio(mcclure,10000,50)\n",
    "mcclure100 = run_portfolio(mcclure, 10000, 100)\n",
    "mcclure200 = run_portfolio(mcclure,10000, 200)\n",
    "mcclure500 = run_portfolio(mcclure,10000,500)\n"
   ]
  },
  {
   "cell_type": "code",
   "execution_count": 131,
   "metadata": {},
   "outputs": [
    {
     "data": {
      "text/html": [
       "<div>\n",
       "<style scoped>\n",
       "    .dataframe tbody tr th:only-of-type {\n",
       "        vertical-align: middle;\n",
       "    }\n",
       "\n",
       "    .dataframe tbody tr th {\n",
       "        vertical-align: top;\n",
       "    }\n",
       "\n",
       "    .dataframe thead th {\n",
       "        text-align: right;\n",
       "    }\n",
       "</style>\n",
       "<table border=\"1\" class=\"dataframe\">\n",
       "  <thead>\n",
       "    <tr style=\"text-align: right;\">\n",
       "      <th></th>\n",
       "      <th>0</th>\n",
       "      <th>1</th>\n",
       "      <th>2</th>\n",
       "      <th>3</th>\n",
       "      <th>4</th>\n",
       "    </tr>\n",
       "  </thead>\n",
       "  <tbody>\n",
       "    <tr>\n",
       "      <th>Bottom Decile</th>\n",
       "      <td>0.650000</td>\n",
       "      <td>1.150000</td>\n",
       "      <td>1.495000</td>\n",
       "      <td>1.760000</td>\n",
       "      <td>1.996000</td>\n",
       "    </tr>\n",
       "    <tr>\n",
       "      <th>Bottom Quartile</th>\n",
       "      <td>1.125000</td>\n",
       "      <td>1.620000</td>\n",
       "      <td>1.880000</td>\n",
       "      <td>2.042500</td>\n",
       "      <td>2.181000</td>\n",
       "    </tr>\n",
       "    <tr>\n",
       "      <th>Median</th>\n",
       "      <td>1.925000</td>\n",
       "      <td>2.290000</td>\n",
       "      <td>2.355000</td>\n",
       "      <td>2.385000</td>\n",
       "      <td>2.405500</td>\n",
       "    </tr>\n",
       "    <tr>\n",
       "      <th>Upper Quartile</th>\n",
       "      <td>3.475000</td>\n",
       "      <td>3.070000</td>\n",
       "      <td>2.930000</td>\n",
       "      <td>2.757500</td>\n",
       "      <td>2.642000</td>\n",
       "    </tr>\n",
       "    <tr>\n",
       "      <th>Upper Decile</th>\n",
       "      <td>4.600000</td>\n",
       "      <td>3.860000</td>\n",
       "      <td>3.450000</td>\n",
       "      <td>3.105000</td>\n",
       "      <td>2.850000</td>\n",
       "    </tr>\n",
       "    <tr>\n",
       "      <th>Mean</th>\n",
       "      <td>2.406615</td>\n",
       "      <td>2.419955</td>\n",
       "      <td>2.433028</td>\n",
       "      <td>2.414016</td>\n",
       "      <td>2.416906</td>\n",
       "    </tr>\n",
       "    <tr>\n",
       "      <th>Std Dev</th>\n",
       "      <td>1.677765</td>\n",
       "      <td>1.066187</td>\n",
       "      <td>0.761148</td>\n",
       "      <td>0.527668</td>\n",
       "      <td>0.337888</td>\n",
       "    </tr>\n",
       "  </tbody>\n",
       "</table>\n",
       "</div>"
      ],
      "text/plain": [
       "                        0         1         2         3         4\n",
       "Bottom Decile    0.650000  1.150000  1.495000  1.760000  1.996000\n",
       "Bottom Quartile  1.125000  1.620000  1.880000  2.042500  2.181000\n",
       "Median           1.925000  2.290000  2.355000  2.385000  2.405500\n",
       "Upper Quartile   3.475000  3.070000  2.930000  2.757500  2.642000\n",
       "Upper Decile     4.600000  3.860000  3.450000  3.105000  2.850000\n",
       "Mean             2.406615  2.419955  2.433028  2.414016  2.416906\n",
       "Std Dev          1.677765  1.066187  0.761148  0.527668  0.337888"
      ]
     },
     "execution_count": 131,
     "metadata": {},
     "output_type": "execute_result"
    }
   ],
   "source": [
    "mcclures = [mcclure20, mcclure50, mcclure100, mcclure200, mcclure500]\n",
    "summary = organize(mcclures)\n",
    "summary.T"
   ]
  }
 ],
 "metadata": {
  "kernelspec": {
   "display_name": "Python 3",
   "language": "python",
   "name": "python3"
  },
  "language_info": {
   "codemirror_mode": {
    "name": "ipython",
    "version": 3
   },
   "file_extension": ".py",
   "mimetype": "text/x-python",
   "name": "python",
   "nbconvert_exporter": "python",
   "pygments_lexer": "ipython3",
   "version": "3.6.5"
  }
 },
 "nbformat": 4,
 "nbformat_minor": 2
}
