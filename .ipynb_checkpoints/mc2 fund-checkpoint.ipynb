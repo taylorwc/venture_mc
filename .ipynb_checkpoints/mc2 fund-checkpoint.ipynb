{
 "cells": [
  {
   "cell_type": "code",
   "execution_count": 89,
   "metadata": {},
   "outputs": [],
   "source": [
    "import numpy as np\n",
    "import pandas as pd\n",
    "import plotly.plotly as py\n",
    "import plotly.graph_objs as go"
   ]
  },
  {
   "cell_type": "code",
   "execution_count": 90,
   "metadata": {},
   "outputs": [],
   "source": [
    "# Create some arrays of possible distributionsm \n",
    "# in the form of ([[multiples], [associated probabilities])\n",
    "levine1 = np.array([[0,2,4,7.5,10], [0.5,0.23,0.11,0.08,0.08]])\n",
    "levine2 = np.array([[0,2,4,7.5,10], [0.56,0.24,0.07,0.06,0.07]])\n",
    "correlation = np.array([[0,3,7.5,15,35,50], [0.648,0.253,0.059,0.025,0.011,0.004]])\n",
    "mcclure = np.array([[0,0.5,3,15,50], [0.5,0.25,0.18,0.05,0.02]])\n",
    "wilson = np.array([[0,1,3,10], [0.4,0.3,0.2,0.1]])\n",
    "dummy = np.array([[0,5,10,20], [0.7,0.1,0.1,0.1]])\n",
    "\n",
    "# function to add a cumulative distribution key\n",
    "def cumulator(dist):\n",
    "    holder = 0\n",
    "    cumulative = []\n",
    "    for i in dist[1]:\n",
    "        holder += i\n",
    "        cumulative.append(holder)\n",
    "    dist = np.insert(dist,2,cumulative, axis=0)\n",
    "    return dist\n",
    "\n",
    "levine1 = cumulator(levine1)\n",
    "levine2 = cumulator(levine2)\n",
    "correlation = cumulator(correlation)\n",
    "mcclure = cumulator(mcclure)\n",
    "wilson = cumulator(wilson)\n",
    "dummy = cumulator(dummy)"
   ]
  },
  {
   "cell_type": "code",
   "execution_count": 91,
   "metadata": {},
   "outputs": [
    {
     "data": {
      "text/plain": [
       "array([[0.0e+00, 5.0e-01, 3.0e+00, 1.5e+01, 5.0e+01],\n",
       "       [5.0e-01, 2.5e-01, 1.8e-01, 5.0e-02, 2.0e-02],\n",
       "       [5.0e-01, 7.5e-01, 9.3e-01, 9.8e-01, 1.0e+00]])"
      ]
     },
     "execution_count": 91,
     "metadata": {},
     "output_type": "execute_result"
    }
   ],
   "source": [
    "mcclure"
   ]
  },
  {
   "cell_type": "code",
   "execution_count": 92,
   "metadata": {},
   "outputs": [],
   "source": [
    "# function to run a simulated portfolio\n",
    "def run_portfolio(dist, iterations, number_of_investments):\n",
    "    total_outcome = []\n",
    "    # function takes the dist and an array of rand numbers to match to multiple\n",
    "    def multiple_selector(dist, outcome):\n",
    "        fund_proceeds = []\n",
    "        for x in outcome:\n",
    "            for i in range(0, len(dist[0])):\n",
    "                if x <= dist[2][i]:\n",
    "                    fund_proceeds.append(dist[0][i])\n",
    "                    break\n",
    "                else:\n",
    "                    continue\n",
    "        return fund_proceeds\n",
    "    \n",
    "    # iterate through the number of portfolios and append to an average gross multiple for each\n",
    "    for _ in range(0, iterations):\n",
    "        rands = np.random.rand(number_of_investments)\n",
    "        fund_proceeds = multiple_selector(dist, rands)\n",
    "        average = sum(fund_proceeds)/len(fund_proceeds)\n",
    "        total_outcome.append(average)\n",
    "        \n",
    "    return total_outcome"
   ]
  },
  {
   "cell_type": "code",
   "execution_count": 93,
   "metadata": {},
   "outputs": [
    {
     "data": {
      "text/plain": [
       "[2.136, 2.159, 3.455, 2.675, 1.987, 2.201, 2.363, 1.714, 2.639, 2.04]"
      ]
     },
     "execution_count": 93,
     "metadata": {},
     "output_type": "execute_result"
    }
   ],
   "source": [
    "test = run_portfolio(mcclure, 10, 500)\n",
    "test\n"
   ]
  },
  {
   "cell_type": "code",
   "execution_count": 94,
   "metadata": {},
   "outputs": [],
   "source": [
    "# run various simulations accross the assumptions\n",
    "levine1_concentrated = run_portfolio(levine1, 10000, 20)\n",
    "levine1_spread = run_portfolio(levine1, 10000, 200)\n",
    "levine2_concentrated = run_portfolio(levine2, 10000, 20)\n",
    "levine2_spread = run_portfolio(levine2, 10000, 200)\n",
    "correlation_concentrated = run_portfolio(correlation, 10000, 20)\n",
    "correlation_spread = run_portfolio(correlation, 10000, 200)\n",
    "mcclure_concentrated = run_portfolio(mcclure, 10000, 20)\n",
    "mcclure_spread = run_portfolio(mcclure, 10000, 200)\n",
    "wilson_concentrated = run_portfolio(wilson, 10000, 20)\n",
    "wilson_spread = run_portfolio(wilson, 10000, 200)\n",
    "\n",
    "concentrated_ports = [levine1_concentrated, levine2_concentrated, correlation_concentrated, mcclure_concentrated, wilson_concentrated]\n",
    "spread_ports = [levine1_spread, levine2_spread, correlation_spread, mcclure_spread, wilson_spread]"
   ]
  },
  {
   "cell_type": "code",
   "execution_count": 95,
   "metadata": {},
   "outputs": [
    {
     "data": {
      "text/html": [
       "<iframe id=\"igraph\" scrolling=\"no\" style=\"border:none;\" seamless=\"seamless\" src=\"https://plot.ly/~taylorwc/7.embed\" height=\"525px\" width=\"100%\"></iframe>"
      ],
      "text/plain": [
       "<plotly.tools.PlotlyDisplay object>"
      ]
     },
     "execution_count": 95,
     "metadata": {},
     "output_type": "execute_result"
    }
   ],
   "source": [
    "# chart the concentrated portfolios with 20 investments\n",
    "trace1 = go.Histogram(x=mcclure_concentrated, opacity=0.75, name='Mcclure - 20')\n",
    "trace2 = go.Histogram(x=levine1_concentrated, opacity=0.75, name='Levine1 - 20')\n",
    "trace3 = go.Histogram(x=correlation_concentrated, opacity=0.75, name='Correlation - 20')\n",
    "trace4 = go.Histogram(x=levine2_concentrated, opacity=0.75, name='Levine2 - 20',)\n",
    "trace5 = go.Histogram(x=wilson_concentrated, opacity=0.75, name='Wilson - 20')\n",
    "\n",
    "data = [trace1, trace2, trace3, trace4, trace5]\n",
    "layout = go.Layout(barmode='overlay')\n",
    "fig = go.Figure(data=data, layout=layout)\n",
    "py.iplot(fig, filename='concentrated')"
   ]
  },
  {
   "cell_type": "code",
   "execution_count": 96,
   "metadata": {},
   "outputs": [
    {
     "data": {
      "text/html": [
       "<iframe id=\"igraph\" scrolling=\"no\" style=\"border:none;\" seamless=\"seamless\" src=\"https://plot.ly/~taylorwc/9.embed\" height=\"525px\" width=\"100%\"></iframe>"
      ],
      "text/plain": [
       "<plotly.tools.PlotlyDisplay object>"
      ]
     },
     "execution_count": 96,
     "metadata": {},
     "output_type": "execute_result"
    }
   ],
   "source": [
    "# chart the portfolios with 200 investments\n",
    "trace5 = go.Histogram(x=mcclure_spread, opacity=0.75, name='Mcclure - 200')\n",
    "trace6 = go.Histogram(x=levine1_spread, opacity=0.75, name='Levine1 - 200')\n",
    "trace7 = go.Histogram(x=correlation_spread, opacity=0.75, name='Correlation - 200')\n",
    "trace8 = go.Histogram(x=levine2_spread, opacity=0.75, name='Levine2 - 200')\n",
    "trace9 = go.Histogram(x=wilson_spread, opacity=0.75, name='Wilson - 200')\n",
    "\n",
    "data = [trace5, trace6, trace7, trace8, trace9]\n",
    "layout = go.Layout(barmode='overlay')\n",
    "fig = go.Figure(data=data, layout=layout)\n",
    "py.iplot(fig, filename='spread')"
   ]
  },
  {
   "cell_type": "code",
   "execution_count": 97,
   "metadata": {},
   "outputs": [],
   "source": [
    "# function to turn the results into a df\n",
    "def organize(portfolios):\n",
    "    df = pd.DataFrame(columns=['Bottom Decile', 'Bottom Quartile', 'Median', 'Upper Quartile', 'Upper Decile', 'Mean', 'Std Dev'])\n",
    "    for portfolio in portfolios:\n",
    "        bottom_decile = np.percentile(portfolio, 10)\n",
    "        bottom_quartile = np.percentile(portfolio, 25)\n",
    "        median = np.percentile(portfolio, 50)\n",
    "        upper_quartile = np.percentile(portfolio, 75)\n",
    "        upper_decile = np.percentile(portfolio, 90)\n",
    "        mean = np.mean(portfolio)\n",
    "        std = np.std(portfolio)\n",
    "        stats = pd.Series([bottom_decile, bottom_quartile, median, upper_quartile, upper_decile, mean, std], index=['Bottom Decile', 'Bottom Quartile', 'Median', 'Upper Quartile', 'Upper Decile', 'Mean', 'Std Dev'])\n",
    "        df = df.append(stats, ignore_index=True)\n",
    "    return df"
   ]
  },
  {
   "cell_type": "code",
   "execution_count": 98,
   "metadata": {},
   "outputs": [
    {
     "data": {
      "text/html": [
       "<div>\n",
       "<style scoped>\n",
       "    .dataframe tbody tr th:only-of-type {\n",
       "        vertical-align: middle;\n",
       "    }\n",
       "\n",
       "    .dataframe tbody tr th {\n",
       "        vertical-align: top;\n",
       "    }\n",
       "\n",
       "    .dataframe thead th {\n",
       "        text-align: right;\n",
       "    }\n",
       "</style>\n",
       "<table border=\"1\" class=\"dataframe\">\n",
       "  <thead>\n",
       "    <tr style=\"text-align: right;\">\n",
       "      <th></th>\n",
       "      <th>0</th>\n",
       "      <th>1</th>\n",
       "      <th>2</th>\n",
       "      <th>3</th>\n",
       "      <th>4</th>\n",
       "    </tr>\n",
       "  </thead>\n",
       "  <tbody>\n",
       "    <tr>\n",
       "      <th>Bottom Decile</th>\n",
       "      <td>2.022500</td>\n",
       "      <td>1.64250</td>\n",
       "      <td>1.677500</td>\n",
       "      <td>1.755000</td>\n",
       "      <td>1.640000</td>\n",
       "    </tr>\n",
       "    <tr>\n",
       "      <th>Bottom Quartile</th>\n",
       "      <td>2.152500</td>\n",
       "      <td>1.76500</td>\n",
       "      <td>1.887500</td>\n",
       "      <td>2.030000</td>\n",
       "      <td>1.760000</td>\n",
       "    </tr>\n",
       "    <tr>\n",
       "      <th>Median</th>\n",
       "      <td>2.302500</td>\n",
       "      <td>1.90375</td>\n",
       "      <td>2.137500</td>\n",
       "      <td>2.375000</td>\n",
       "      <td>1.895000</td>\n",
       "    </tr>\n",
       "    <tr>\n",
       "      <th>Upper Quartile</th>\n",
       "      <td>2.455000</td>\n",
       "      <td>2.05000</td>\n",
       "      <td>2.402500</td>\n",
       "      <td>2.742500</td>\n",
       "      <td>2.035000</td>\n",
       "    </tr>\n",
       "    <tr>\n",
       "      <th>Upper Decile</th>\n",
       "      <td>2.592500</td>\n",
       "      <td>2.18250</td>\n",
       "      <td>2.670000</td>\n",
       "      <td>3.105000</td>\n",
       "      <td>2.170000</td>\n",
       "    </tr>\n",
       "    <tr>\n",
       "      <th>Mean</th>\n",
       "      <td>2.305485</td>\n",
       "      <td>1.90955</td>\n",
       "      <td>2.161150</td>\n",
       "      <td>2.408576</td>\n",
       "      <td>1.900165</td>\n",
       "    </tr>\n",
       "    <tr>\n",
       "      <th>Std Dev</th>\n",
       "      <td>0.222664</td>\n",
       "      <td>0.21060</td>\n",
       "      <td>0.390147</td>\n",
       "      <td>0.530255</td>\n",
       "      <td>0.206466</td>\n",
       "    </tr>\n",
       "  </tbody>\n",
       "</table>\n",
       "</div>"
      ],
      "text/plain": [
       "                        0        1         2         3         4\n",
       "Bottom Decile    2.022500  1.64250  1.677500  1.755000  1.640000\n",
       "Bottom Quartile  2.152500  1.76500  1.887500  2.030000  1.760000\n",
       "Median           2.302500  1.90375  2.137500  2.375000  1.895000\n",
       "Upper Quartile   2.455000  2.05000  2.402500  2.742500  2.035000\n",
       "Upper Decile     2.592500  2.18250  2.670000  3.105000  2.170000\n",
       "Mean             2.305485  1.90955  2.161150  2.408576  1.900165\n",
       "Std Dev          0.222664  0.21060  0.390147  0.530255  0.206466"
      ]
     },
     "execution_count": 98,
     "metadata": {},
     "output_type": "execute_result"
    }
   ],
   "source": [
    "test = organize(spread_ports)\n",
    "test.T"
   ]
  },
  {
   "cell_type": "code",
   "execution_count": 99,
   "metadata": {},
   "outputs": [
    {
     "data": {
      "text/html": [
       "<div>\n",
       "<style scoped>\n",
       "    .dataframe tbody tr th:only-of-type {\n",
       "        vertical-align: middle;\n",
       "    }\n",
       "\n",
       "    .dataframe tbody tr th {\n",
       "        vertical-align: top;\n",
       "    }\n",
       "\n",
       "    .dataframe thead th {\n",
       "        text-align: right;\n",
       "    }\n",
       "</style>\n",
       "<table border=\"1\" class=\"dataframe\">\n",
       "  <thead>\n",
       "    <tr style=\"text-align: right;\">\n",
       "      <th></th>\n",
       "      <th>0</th>\n",
       "      <th>1</th>\n",
       "      <th>2</th>\n",
       "      <th>3</th>\n",
       "      <th>4</th>\n",
       "    </tr>\n",
       "  </thead>\n",
       "  <tbody>\n",
       "    <tr>\n",
       "      <th>Bottom Decile</th>\n",
       "      <td>1.400000</td>\n",
       "      <td>1.100000</td>\n",
       "      <td>0.900000</td>\n",
       "      <td>0.650000</td>\n",
       "      <td>1.100000</td>\n",
       "    </tr>\n",
       "    <tr>\n",
       "      <th>Bottom Quartile</th>\n",
       "      <td>1.800000</td>\n",
       "      <td>1.450000</td>\n",
       "      <td>1.275000</td>\n",
       "      <td>1.150000</td>\n",
       "      <td>1.450000</td>\n",
       "    </tr>\n",
       "    <tr>\n",
       "      <th>Median</th>\n",
       "      <td>2.250000</td>\n",
       "      <td>1.875000</td>\n",
       "      <td>1.800000</td>\n",
       "      <td>1.925000</td>\n",
       "      <td>1.850000</td>\n",
       "    </tr>\n",
       "    <tr>\n",
       "      <th>Upper Quartile</th>\n",
       "      <td>2.750000</td>\n",
       "      <td>2.325000</td>\n",
       "      <td>2.800000</td>\n",
       "      <td>3.500000</td>\n",
       "      <td>2.300000</td>\n",
       "    </tr>\n",
       "    <tr>\n",
       "      <th>Upper Decile</th>\n",
       "      <td>3.200000</td>\n",
       "      <td>2.775000</td>\n",
       "      <td>3.850000</td>\n",
       "      <td>4.625000</td>\n",
       "      <td>2.750000</td>\n",
       "    </tr>\n",
       "    <tr>\n",
       "      <th>Mean</th>\n",
       "      <td>2.292365</td>\n",
       "      <td>1.905485</td>\n",
       "      <td>2.142207</td>\n",
       "      <td>2.415212</td>\n",
       "      <td>1.905715</td>\n",
       "    </tr>\n",
       "    <tr>\n",
       "      <th>Std Dev</th>\n",
       "      <td>0.704991</td>\n",
       "      <td>0.658872</td>\n",
       "      <td>1.205131</td>\n",
       "      <td>1.681443</td>\n",
       "      <td>0.647425</td>\n",
       "    </tr>\n",
       "  </tbody>\n",
       "</table>\n",
       "</div>"
      ],
      "text/plain": [
       "                        0         1         2         3         4\n",
       "Bottom Decile    1.400000  1.100000  0.900000  0.650000  1.100000\n",
       "Bottom Quartile  1.800000  1.450000  1.275000  1.150000  1.450000\n",
       "Median           2.250000  1.875000  1.800000  1.925000  1.850000\n",
       "Upper Quartile   2.750000  2.325000  2.800000  3.500000  2.300000\n",
       "Upper Decile     3.200000  2.775000  3.850000  4.625000  2.750000\n",
       "Mean             2.292365  1.905485  2.142207  2.415212  1.905715\n",
       "Std Dev          0.704991  0.658872  1.205131  1.681443  0.647425"
      ]
     },
     "execution_count": 99,
     "metadata": {},
     "output_type": "execute_result"
    }
   ],
   "source": [
    "test1 = organize(concentrated_ports)\n",
    "test1.T"
   ]
  },
  {
   "cell_type": "code",
   "execution_count": 100,
   "metadata": {},
   "outputs": [],
   "source": [
    "wilson1 = run_portfolio(levine1, 10000, 1)\n",
    "wilson5 = run_portfolio(levine1, 10000, 5)\n",
    "wilson10 = run_portfolio(levine1, 10000, 10)\n",
    "wilson20 = run_portfolio(levine1,10000,20)\n",
    "wilson50 = run_portfolio(levine1,10000,50)\n",
    "wilson100 = run_portfolio(levine1, 10000, 100)\n",
    "wilson200 = run_portfolio(levine1,10000, 200)\n",
    "wilson500 = run_portfolio(levine1,10000,500)\n"
   ]
  },
  {
   "cell_type": "code",
   "execution_count": 101,
   "metadata": {},
   "outputs": [
    {
     "data": {
      "text/html": [
       "<div>\n",
       "<style scoped>\n",
       "    .dataframe tbody tr th:only-of-type {\n",
       "        vertical-align: middle;\n",
       "    }\n",
       "\n",
       "    .dataframe tbody tr th {\n",
       "        vertical-align: top;\n",
       "    }\n",
       "\n",
       "    .dataframe thead th {\n",
       "        text-align: right;\n",
       "    }\n",
       "</style>\n",
       "<table border=\"1\" class=\"dataframe\">\n",
       "  <thead>\n",
       "    <tr style=\"text-align: right;\">\n",
       "      <th></th>\n",
       "      <th>0</th>\n",
       "      <th>1</th>\n",
       "      <th>2</th>\n",
       "      <th>3</th>\n",
       "      <th>4</th>\n",
       "      <th>5</th>\n",
       "      <th>6</th>\n",
       "      <th>7</th>\n",
       "    </tr>\n",
       "  </thead>\n",
       "  <tbody>\n",
       "    <tr>\n",
       "      <th>Bottom Decile</th>\n",
       "      <td>0.000000</td>\n",
       "      <td>0.000000</td>\n",
       "      <td>1.000000</td>\n",
       "      <td>1.750000</td>\n",
       "      <td>2.400000</td>\n",
       "      <td>2.700000</td>\n",
       "      <td>2.925000</td>\n",
       "      <td>3.140000</td>\n",
       "    </tr>\n",
       "    <tr>\n",
       "      <th>Bottom Quartile</th>\n",
       "      <td>0.000000</td>\n",
       "      <td>1.000000</td>\n",
       "      <td>2.000000</td>\n",
       "      <td>2.500000</td>\n",
       "      <td>2.900000</td>\n",
       "      <td>3.050000</td>\n",
       "      <td>3.200000</td>\n",
       "      <td>3.300000</td>\n",
       "    </tr>\n",
       "    <tr>\n",
       "      <th>Median</th>\n",
       "      <td>0.000000</td>\n",
       "      <td>3.000000</td>\n",
       "      <td>3.500000</td>\n",
       "      <td>3.500000</td>\n",
       "      <td>3.500000</td>\n",
       "      <td>3.500000</td>\n",
       "      <td>3.500000</td>\n",
       "      <td>3.490000</td>\n",
       "    </tr>\n",
       "    <tr>\n",
       "      <th>Upper Quartile</th>\n",
       "      <td>5.000000</td>\n",
       "      <td>5.000000</td>\n",
       "      <td>5.000000</td>\n",
       "      <td>4.500000</td>\n",
       "      <td>4.100000</td>\n",
       "      <td>3.900000</td>\n",
       "      <td>3.800000</td>\n",
       "      <td>3.690000</td>\n",
       "    </tr>\n",
       "    <tr>\n",
       "      <th>Upper Decile</th>\n",
       "      <td>20.000000</td>\n",
       "      <td>8.000000</td>\n",
       "      <td>6.000000</td>\n",
       "      <td>5.250000</td>\n",
       "      <td>4.700000</td>\n",
       "      <td>4.350000</td>\n",
       "      <td>4.075000</td>\n",
       "      <td>3.860000</td>\n",
       "    </tr>\n",
       "    <tr>\n",
       "      <th>Mean</th>\n",
       "      <td>3.538500</td>\n",
       "      <td>3.546100</td>\n",
       "      <td>3.485800</td>\n",
       "      <td>3.477650</td>\n",
       "      <td>3.495410</td>\n",
       "      <td>3.509185</td>\n",
       "      <td>3.498675</td>\n",
       "      <td>3.498189</td>\n",
       "    </tr>\n",
       "    <tr>\n",
       "      <th>Std Dev</th>\n",
       "      <td>6.373501</td>\n",
       "      <td>2.878589</td>\n",
       "      <td>2.017312</td>\n",
       "      <td>1.406898</td>\n",
       "      <td>0.900822</td>\n",
       "      <td>0.634502</td>\n",
       "      <td>0.451892</td>\n",
       "      <td>0.282813</td>\n",
       "    </tr>\n",
       "  </tbody>\n",
       "</table>\n",
       "</div>"
      ],
      "text/plain": [
       "                         0         1         2         3         4         5  \\\n",
       "Bottom Decile     0.000000  0.000000  1.000000  1.750000  2.400000  2.700000   \n",
       "Bottom Quartile   0.000000  1.000000  2.000000  2.500000  2.900000  3.050000   \n",
       "Median            0.000000  3.000000  3.500000  3.500000  3.500000  3.500000   \n",
       "Upper Quartile    5.000000  5.000000  5.000000  4.500000  4.100000  3.900000   \n",
       "Upper Decile     20.000000  8.000000  6.000000  5.250000  4.700000  4.350000   \n",
       "Mean              3.538500  3.546100  3.485800  3.477650  3.495410  3.509185   \n",
       "Std Dev           6.373501  2.878589  2.017312  1.406898  0.900822  0.634502   \n",
       "\n",
       "                        6         7  \n",
       "Bottom Decile    2.925000  3.140000  \n",
       "Bottom Quartile  3.200000  3.300000  \n",
       "Median           3.500000  3.490000  \n",
       "Upper Quartile   3.800000  3.690000  \n",
       "Upper Decile     4.075000  3.860000  \n",
       "Mean             3.498675  3.498189  \n",
       "Std Dev          0.451892  0.282813  "
      ]
     },
     "execution_count": 101,
     "metadata": {},
     "output_type": "execute_result"
    }
   ],
   "source": [
    "wilsons = [wilson1, wilson5, wilson10, wilson20, wilson50, wilson100, wilson200, wilson500]\n",
    "summary = organize(wilsons)\n",
    "summary.T"
   ]
  },
  {
   "cell_type": "code",
   "execution_count": 111,
   "metadata": {},
   "outputs": [
    {
     "name": "stdout",
     "output_type": "stream",
     "text": [
      "0.2035\n",
      "0.2384\n",
      "0.1777\n",
      "0.1246\n",
      "0.0474\n",
      "0.0096\n",
      "0.001\n",
      "0.0\n"
     ]
    }
   ],
   "source": [
    "for size in wilsons:\n",
    "    above1 = len([1 for i in size if i > 5.0])\n",
    "    percentage = above1/len(size)\n",
    "    print(percentage)"
   ]
  },
  {
   "cell_type": "code",
   "execution_count": null,
   "metadata": {},
   "outputs": [],
   "source": []
  }
 ],
 "metadata": {
  "kernelspec": {
   "display_name": "Python 3",
   "language": "python",
   "name": "python3"
  },
  "language_info": {
   "codemirror_mode": {
    "name": "ipython",
    "version": 3
   },
   "file_extension": ".py",
   "mimetype": "text/x-python",
   "name": "python",
   "nbconvert_exporter": "python",
   "pygments_lexer": "ipython3",
   "version": "3.6.5"
  }
 },
 "nbformat": 4,
 "nbformat_minor": 2
}
